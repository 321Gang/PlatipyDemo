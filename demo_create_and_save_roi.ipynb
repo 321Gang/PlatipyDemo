{
 "cells": [
  {
   "cell_type": "code",
   "execution_count": 3,
   "metadata": {},
   "outputs": [],
   "source": [
    "import SimpleITK as sitk\n",
    "from platipy.imaging import ImageVisualiser\n",
    "from platipy.imaging.registration.linear import linear_registration\n",
    "from platipy.imaging.registration.utils import apply_linear_transform\n",
    "from platipy.dicom.io import rtstruct_to_nifti"
   ]
  },
  {
   "cell_type": "code",
   "execution_count": 2,
   "metadata": {},
   "outputs": [],
   "source": [
    "image_set_A = sitk.ReadImage(\"./data/nifti/lung/PRHGD5257_RT_CT/IMAGES/PRHGD5257_RT_CT.nii.gz\")\n",
    "image_set_B = sitk.ReadImage(\"./data/nifti/lung/LCTSC-Test-S1-101/IMAGES/LCTSC_TEST_S1_101_0_CT_0.nii.gz\")\n",
    "image_set_C = sitk.ReadImage(\"./data/nifti/lung/LCTSC-Test-S1-201/IMAGES/LCTSC_TEST_S1_201_0_CT_0.nii.gz\")"
   ]
  },
  {
   "cell_type": "code",
   "execution_count": 4,
   "metadata": {},
   "outputs": [],
   "source": [
    "rtstruct = rtstruct_to_nifti.read_dicom_struct_file(\"./PRHGD5257/RT.CT/rtss.dcm\")"
   ]
  },
  {
   "cell_type": "code",
   "execution_count": 5,
   "metadata": {},
   "outputs": [
    {
     "name": "stderr",
     "output_type": "stream",
     "text": [
      "2021-09-06 12:37:16.169 | DEBUG    | platipy.dicom.io.rtstruct_to_nifti:transform_point_set_from_dicom_struct:134 - Converting structure 0 with name: ISO\n",
      "2021-09-06 12:37:16.176 | DEBUG    | platipy.dicom.io.rtstruct_to_nifti:transform_point_set_from_dicom_struct:152 - This is not a closed planar structure, skipping.\n",
      "2021-09-06 12:37:16.181 | DEBUG    | platipy.dicom.io.rtstruct_to_nifti:transform_point_set_from_dicom_struct:134 - Converting structure 1 with name: LASER\n",
      "2021-09-06 12:37:16.184 | DEBUG    | platipy.dicom.io.rtstruct_to_nifti:transform_point_set_from_dicom_struct:152 - This is not a closed planar structure, skipping.\n",
      "2021-09-06 12:37:16.187 | DEBUG    | platipy.dicom.io.rtstruct_to_nifti:transform_point_set_from_dicom_struct:134 - Converting structure 2 with name: SUP_TAT\n",
      "2021-09-06 12:37:16.190 | DEBUG    | platipy.dicom.io.rtstruct_to_nifti:transform_point_set_from_dicom_struct:152 - This is not a closed planar structure, skipping.\n",
      "2021-09-06 12:37:16.191 | DEBUG    | platipy.dicom.io.rtstruct_to_nifti:transform_point_set_from_dicom_struct:134 - Converting structure 3 with name: MID_TAT\n",
      "2021-09-06 12:37:16.194 | DEBUG    | platipy.dicom.io.rtstruct_to_nifti:transform_point_set_from_dicom_struct:152 - This is not a closed planar structure, skipping.\n",
      "2021-09-06 12:37:16.194 | DEBUG    | platipy.dicom.io.rtstruct_to_nifti:transform_point_set_from_dicom_struct:134 - Converting structure 4 with name: INF_TAT\n",
      "2021-09-06 12:37:16.197 | DEBUG    | platipy.dicom.io.rtstruct_to_nifti:transform_point_set_from_dicom_struct:152 - This is not a closed planar structure, skipping.\n",
      "2021-09-06 12:37:16.199 | DEBUG    | platipy.dicom.io.rtstruct_to_nifti:transform_point_set_from_dicom_struct:134 - Converting structure 5 with name: CouchCentre\n",
      "2021-09-06 12:37:16.204 | DEBUG    | platipy.dicom.io.rtstruct_to_nifti:transform_point_set_from_dicom_struct:152 - This is not a closed planar structure, skipping.\n",
      "2021-09-06 12:37:16.206 | DEBUG    | platipy.dicom.io.rtstruct_to_nifti:transform_point_set_from_dicom_struct:134 - Converting structure 6 with name: MQ\n",
      "2021-09-06 12:37:16.208 | DEBUG    | platipy.dicom.io.rtstruct_to_nifti:transform_point_set_from_dicom_struct:152 - This is not a closed planar structure, skipping.\n",
      "2021-09-06 12:37:16.209 | DEBUG    | platipy.dicom.io.rtstruct_to_nifti:transform_point_set_from_dicom_struct:134 - Converting structure 7 with name: PTV4800\n",
      "2021-09-06 12:37:17.063 | DEBUG    | platipy.dicom.io.rtstruct_to_nifti:transform_point_set_from_dicom_struct:134 - Converting structure 8 with name: ITV\n",
      "2021-09-06 12:37:17.988 | DEBUG    | platipy.dicom.io.rtstruct_to_nifti:transform_point_set_from_dicom_struct:134 - Converting structure 9 with name: SPINALCANAL\n",
      "2021-09-06 12:37:19.107 | DEBUG    | platipy.dicom.io.rtstruct_to_nifti:transform_point_set_from_dicom_struct:134 - Converting structure 10 with name: RIBS\n",
      "2021-09-06 12:37:21.497 | DEBUG    | platipy.dicom.io.rtstruct_to_nifti:transform_point_set_from_dicom_struct:134 - Converting structure 11 with name: 100%_(Trial_2)\n",
      "2021-09-06 12:37:22.303 | DEBUG    | platipy.dicom.io.rtstruct_to_nifti:transform_point_set_from_dicom_struct:134 - Converting structure 12 with name: 98%_(Trial_2)\n",
      "2021-09-06 12:37:23.100 | DEBUG    | platipy.dicom.io.rtstruct_to_nifti:transform_point_set_from_dicom_struct:134 - Converting structure 13 with name: contour_check\n",
      "2021-09-06 12:38:13.498 | DEBUG    | platipy.dicom.io.rtstruct_to_nifti:transform_point_set_from_dicom_struct:134 - Converting structure 14 with name: LUNG_L\n",
      "2021-09-06 12:38:16.977 | DEBUG    | platipy.dicom.io.rtstruct_to_nifti:transform_point_set_from_dicom_struct:134 - Converting structure 15 with name: CARINA\n",
      "2021-09-06 12:38:17.687 | DEBUG    | platipy.dicom.io.rtstruct_to_nifti:transform_point_set_from_dicom_struct:134 - Converting structure 16 with name: HEART\n",
      "2021-09-06 12:38:19.794 | DEBUG    | platipy.dicom.io.rtstruct_to_nifti:transform_point_set_from_dicom_struct:134 - Converting structure 17 with name: CHESTWALL\n",
      "2021-09-06 12:38:22.015 | DEBUG    | platipy.dicom.io.rtstruct_to_nifti:transform_point_set_from_dicom_struct:134 - Converting structure 18 with name: LUNG_R\n",
      "2021-09-06 12:38:26.613 | DEBUG    | platipy.dicom.io.rtstruct_to_nifti:transform_point_set_from_dicom_struct:134 - Converting structure 19 with name: OESOPHAGUS\n",
      "2021-09-06 12:38:27.925 | DEBUG    | platipy.dicom.io.rtstruct_to_nifti:transform_point_set_from_dicom_struct:134 - Converting structure 20 with name: PROXBRONCHI\n",
      "2021-09-06 12:38:28.844 | DEBUG    | platipy.dicom.io.rtstruct_to_nifti:transform_point_set_from_dicom_struct:134 - Converting structure 21 with name: TRACHEA\n",
      "2021-09-06 12:38:29.625 | DEBUG    | platipy.dicom.io.rtstruct_to_nifti:transform_point_set_from_dicom_struct:134 - Converting structure 22 with name: GTVp\n",
      "2021-09-06 12:38:30.357 | DEBUG    | platipy.dicom.io.rtstruct_to_nifti:transform_point_set_from_dicom_struct:134 - Converting structure 23 with name: ---------\n",
      "2021-09-06 12:38:30.357 | DEBUG    | platipy.dicom.io.rtstruct_to_nifti:transform_point_set_from_dicom_struct:137 - No contour sequence found for this structure, skipping.\n",
      "2021-09-06 12:38:30.365 | DEBUG    | platipy.dicom.io.rtstruct_to_nifti:transform_point_set_from_dicom_struct:134 - Converting structure 24 with name: great_vessels\n",
      "2021-09-06 12:38:31.447 | DEBUG    | platipy.dicom.io.rtstruct_to_nifti:transform_point_set_from_dicom_struct:134 - Converting structure 25 with name: External\n",
      "2021-09-06 12:39:36.574 | DEBUG    | platipy.dicom.io.rtstruct_to_nifti:transform_point_set_from_dicom_struct:134 - Converting structure 26 with name: External-5mm\n",
      "2021-09-06 12:40:33.810 | DEBUG    | platipy.dicom.io.rtstruct_to_nifti:transform_point_set_from_dicom_struct:134 - Converting structure 27 with name: skin\n",
      "2021-09-06 12:42:38.816 | DEBUG    | platipy.dicom.io.rtstruct_to_nifti:transform_point_set_from_dicom_struct:134 - Converting structure 28 with name: PTV+2CM\n",
      "2021-09-06 12:42:40.161 | DEBUG    | platipy.dicom.io.rtstruct_to_nifti:transform_point_set_from_dicom_struct:134 - Converting structure 29 with name: PTV_2cmRing\n",
      "2021-09-06 12:42:41.622 | DEBUG    | platipy.dicom.io.rtstruct_to_nifti:transform_point_set_from_dicom_struct:134 - Converting structure 30 with name: External-PTV+2CM\n",
      "2021-09-06 12:43:47.156 | DEBUG    | platipy.dicom.io.rtstruct_to_nifti:transform_point_set_from_dicom_struct:134 - Converting structure 31 with name: lungs-ITV\n",
      "2021-09-06 12:43:54.800 | DEBUG    | platipy.dicom.io.rtstruct_to_nifti:transform_point_set_from_dicom_struct:134 - Converting structure 32 with name: Chest_wall\n",
      "2021-09-06 12:44:06.155 | DEBUG    | platipy.dicom.io.rtstruct_to_nifti:transform_point_set_from_dicom_struct:134 - Converting structure 33 with name: ribs_+3mm\n",
      "2021-09-06 12:44:09.070 | DEBUG    | platipy.dicom.io.rtstruct_to_nifti:transform_point_set_from_dicom_struct:134 - Converting structure 34 with name: PTV4800_excl_rib3mm\n",
      "2021-09-06 12:44:09.887 | DEBUG    | platipy.dicom.io.rtstruct_to_nifti:transform_point_set_from_dicom_struct:134 - Converting structure 35 with name: 4th_Rib\n",
      "2021-09-06 12:44:10.698 | DEBUG    | platipy.dicom.io.rtstruct_to_nifti:transform_point_set_from_dicom_struct:134 - Converting structure 36 with name: 5th_Rib\n",
      "2021-09-06 12:44:11.618 | DEBUG    | platipy.dicom.io.rtstruct_to_nifti:transform_point_set_from_dicom_struct:134 - Converting structure 37 with name: 6th_Rib\n"
     ]
    }
   ],
   "source": [
    "mask_array = rtstruct_to_nifti.transform_point_set_from_dicom_struct(image_set_A, rtstruct)"
   ]
  },
  {
   "cell_type": "code",
   "execution_count": 11,
   "metadata": {},
   "outputs": [
    {
     "name": "stdout",
     "output_type": "stream",
     "text": [
      "Image (000001AC49D465E0)\n",
      "  RTTI typeinfo:   class itk::Image<unsigned char,3>\n",
      "  Reference Count: 1\n",
      "  Modified Time: 1355\n",
      "  Debug: Off\n",
      "  Object Name: \n",
      "  Observers: \n",
      "    none\n",
      "  Source: (none)\n",
      "  Source output name: (none)\n",
      "  Release Data: Off\n",
      "  Data Released: False\n",
      "  Global Release Data: Off\n",
      "  PipelineMTime: 1343\n",
      "  UpdateMTime: 1354\n",
      "  RealTimeStamp: 0 seconds \n",
      "  LargestPossibleRegion: \n",
      "    Dimension: 3\n",
      "    Index: [0, 0, 0]\n",
      "    Size: [512, 512, 216]\n",
      "  BufferedRegion: \n",
      "    Dimension: 3\n",
      "    Index: [0, 0, 0]\n",
      "    Size: [512, 512, 216]\n",
      "  RequestedRegion: \n",
      "    Dimension: 3\n",
      "    Index: [0, 0, 0]\n",
      "    Size: [512, 512, 216]\n",
      "  Spacing: [0.976562, 0.976562, 2.0093]\n",
      "  Origin: [-249.512, -452.012, -866]\n",
      "  Direction: \n",
      "1 0 0\n",
      "0 1 0\n",
      "0 0 1\n",
      "\n",
      "  IndexToPointMatrix: \n",
      "0.976562 0 0\n",
      "0 0.976562 0\n",
      "0 0 2.0093\n",
      "\n",
      "  PointToIndexMatrix: \n",
      "1.024 0 0\n",
      "0 1.024 0\n",
      "0 0 0.497685\n",
      "\n",
      "  Inverse Direction: \n",
      "1 0 0\n",
      "0 1 0\n",
      "0 0 1\n",
      "\n",
      "  PixelContainer: \n",
      "    ImportImageContainer (000001AC48E62C60)\n",
      "      RTTI typeinfo:   class itk::ImportImageContainer<unsigned __int64,unsigned char>\n",
      "      Reference Count: 1\n",
      "      Modified Time: 1351\n",
      "      Debug: Off\n",
      "      Object Name: \n",
      "      Observers: \n",
      "        none\n",
      "      Pointer: 000001AC00003040\n",
      "      Container manages memory: true\n",
      "      Size: 56623104\n",
      "      Capacity: 56623104\n",
      "\n"
     ]
    }
   ],
   "source": [
    "print(mask_array[0][0])"
   ]
  },
  {
   "cell_type": "code",
   "execution_count": 7,
   "metadata": {},
   "outputs": [],
   "source": [
    "from rt_utils import RTStructBuilder\n",
    "import numpy as np"
   ]
  },
  {
   "cell_type": "code",
   "execution_count": 8,
   "metadata": {},
   "outputs": [],
   "source": [
    "# create new rtstruct\n",
    "rtstruct = RTStructBuilder.create_from(\n",
    "  dicom_series_path=\"./PRHGD5257/RT.CT/IMAGES\",\n",
    "  rt_struct_path=\"./PRHGD5257/RT.CT/new_rtss.dcm\"\n",
    ")\n"
   ]
  },
  {
   "cell_type": "code",
   "execution_count": 12,
   "metadata": {},
   "outputs": [
    {
     "ename": "AttributeError",
     "evalue": "'Image' object has no attribute 'dtype'",
     "output_type": "error",
     "traceback": [
      "\u001b[1;31m---------------------------------------------------------------------------\u001b[0m",
      "\u001b[1;31mAttributeError\u001b[0m                            Traceback (most recent call last)",
      "\u001b[1;32m<ipython-input-12-0c0f5a9421e2>\u001b[0m in \u001b[0;36m<module>\u001b[1;34m\u001b[0m\n\u001b[1;32m----> 1\u001b[1;33m rtstruct.add_roi(\n\u001b[0m\u001b[0;32m      2\u001b[0m   \u001b[0mmask\u001b[0m\u001b[1;33m=\u001b[0m\u001b[0mmask_array\u001b[0m\u001b[1;33m[\u001b[0m\u001b[1;36m0\u001b[0m\u001b[1;33m]\u001b[0m\u001b[1;33m[\u001b[0m\u001b[1;36m0\u001b[0m\u001b[1;33m]\u001b[0m\u001b[1;33m,\u001b[0m\u001b[1;33m\u001b[0m\u001b[1;33m\u001b[0m\u001b[0m\n\u001b[0;32m      3\u001b[0m   \u001b[0mcolor\u001b[0m\u001b[1;33m=\u001b[0m\u001b[1;33m[\u001b[0m\u001b[1;36m255\u001b[0m\u001b[1;33m,\u001b[0m \u001b[1;36m0\u001b[0m\u001b[1;33m,\u001b[0m \u001b[1;36m255\u001b[0m\u001b[1;33m]\u001b[0m\u001b[1;33m,\u001b[0m\u001b[1;33m\u001b[0m\u001b[1;33m\u001b[0m\u001b[0m\n\u001b[0;32m      4\u001b[0m   \u001b[0mname\u001b[0m\u001b[1;33m=\u001b[0m\u001b[0mmask_array\u001b[0m\u001b[1;33m[\u001b[0m\u001b[1;36m1\u001b[0m\u001b[1;33m]\u001b[0m\u001b[1;33m[\u001b[0m\u001b[1;36m0\u001b[0m\u001b[1;33m]\u001b[0m\u001b[1;33m\u001b[0m\u001b[1;33m\u001b[0m\u001b[0m\n\u001b[0;32m      5\u001b[0m )\n",
      "\u001b[1;32m~\\AppData\\Roaming\\Python\\Python38\\site-packages\\rt_utils\\rtstruct.py\u001b[0m in \u001b[0;36madd_roi\u001b[1;34m(self, mask, color, name, description, use_pin_hole, approximate_contours, roi_generation_algorithm)\u001b[0m\n\u001b[0;32m     43\u001b[0m \u001b[1;33m\u001b[0m\u001b[0m\n\u001b[0;32m     44\u001b[0m         \u001b[1;31m# TODO test if name already exists\u001b[0m\u001b[1;33m\u001b[0m\u001b[1;33m\u001b[0m\u001b[1;33m\u001b[0m\u001b[0m\n\u001b[1;32m---> 45\u001b[1;33m         \u001b[0mself\u001b[0m\u001b[1;33m.\u001b[0m\u001b[0mvalidate_mask\u001b[0m\u001b[1;33m(\u001b[0m\u001b[0mmask\u001b[0m\u001b[1;33m)\u001b[0m\u001b[1;33m\u001b[0m\u001b[1;33m\u001b[0m\u001b[0m\n\u001b[0m\u001b[0;32m     46\u001b[0m         \u001b[0mroi_number\u001b[0m \u001b[1;33m=\u001b[0m \u001b[0mlen\u001b[0m\u001b[1;33m(\u001b[0m\u001b[0mself\u001b[0m\u001b[1;33m.\u001b[0m\u001b[0mds\u001b[0m\u001b[1;33m.\u001b[0m\u001b[0mStructureSetROISequence\u001b[0m\u001b[1;33m)\u001b[0m \u001b[1;33m+\u001b[0m \u001b[1;36m1\u001b[0m\u001b[1;33m\u001b[0m\u001b[1;33m\u001b[0m\u001b[0m\n\u001b[0;32m     47\u001b[0m         roi_data = ROIData(\n",
      "\u001b[1;32m~\\AppData\\Roaming\\Python\\Python38\\site-packages\\rt_utils\\rtstruct.py\u001b[0m in \u001b[0;36mvalidate_mask\u001b[1;34m(self, mask)\u001b[0m\n\u001b[0;32m     62\u001b[0m \u001b[1;33m\u001b[0m\u001b[0m\n\u001b[0;32m     63\u001b[0m     \u001b[1;32mdef\u001b[0m \u001b[0mvalidate_mask\u001b[0m\u001b[1;33m(\u001b[0m\u001b[0mself\u001b[0m\u001b[1;33m,\u001b[0m \u001b[0mmask\u001b[0m\u001b[1;33m:\u001b[0m \u001b[0mnp\u001b[0m\u001b[1;33m.\u001b[0m\u001b[0mndarray\u001b[0m\u001b[1;33m)\u001b[0m \u001b[1;33m->\u001b[0m \u001b[0mbool\u001b[0m\u001b[1;33m:\u001b[0m\u001b[1;33m\u001b[0m\u001b[1;33m\u001b[0m\u001b[0m\n\u001b[1;32m---> 64\u001b[1;33m         \u001b[1;32mif\u001b[0m \u001b[0mmask\u001b[0m\u001b[1;33m.\u001b[0m\u001b[0mdtype\u001b[0m \u001b[1;33m!=\u001b[0m \u001b[0mbool\u001b[0m\u001b[1;33m:\u001b[0m\u001b[1;33m\u001b[0m\u001b[1;33m\u001b[0m\u001b[0m\n\u001b[0m\u001b[0;32m     65\u001b[0m             \u001b[1;32mraise\u001b[0m \u001b[0mRTStruct\u001b[0m\u001b[1;33m.\u001b[0m\u001b[0mROIException\u001b[0m\u001b[1;33m(\u001b[0m\u001b[1;34mf\"Mask data type must be boolean. Got {mask.dtype}\"\u001b[0m\u001b[1;33m)\u001b[0m\u001b[1;33m\u001b[0m\u001b[1;33m\u001b[0m\u001b[0m\n\u001b[0;32m     66\u001b[0m \u001b[1;33m\u001b[0m\u001b[0m\n",
      "\u001b[1;31mAttributeError\u001b[0m: 'Image' object has no attribute 'dtype'"
     ]
    }
   ],
   "source": [
    "rtstruct.add_roi(\n",
    "  mask=mask_array[0][0], \n",
    "  color=[255, 0, 255], \n",
    "  name=mask_array[1][0]\n",
    ")\n",
    "\n",
    "rtstruct.save('new-rt-struct')"
   ]
  },
  {
   "cell_type": "code",
   "execution_count": null,
   "metadata": {},
   "outputs": [],
   "source": []
  },
  {
   "cell_type": "code",
   "execution_count": null,
   "metadata": {},
   "outputs": [],
   "source": []
  },
  {
   "cell_type": "code",
   "execution_count": null,
   "metadata": {},
   "outputs": [],
   "source": []
  },
  {
   "cell_type": "code",
   "execution_count": null,
   "metadata": {},
   "outputs": [],
   "source": []
  },
  {
   "cell_type": "code",
   "execution_count": null,
   "metadata": {},
   "outputs": [],
   "source": []
  }
 ],
 "metadata": {
  "kernelspec": {
   "display_name": "Python 3",
   "language": "python",
   "name": "python3"
  },
  "language_info": {
   "codemirror_mode": {
    "name": "ipython",
    "version": 3
   },
   "file_extension": ".py",
   "mimetype": "text/x-python",
   "name": "python",
   "nbconvert_exporter": "python",
   "pygments_lexer": "ipython3",
   "version": "3.8.5"
  }
 },
 "nbformat": 4,
 "nbformat_minor": 4
}
