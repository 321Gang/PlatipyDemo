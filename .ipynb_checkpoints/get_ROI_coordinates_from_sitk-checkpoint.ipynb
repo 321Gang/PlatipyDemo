{
 "cells": [
  {
   "cell_type": "code",
   "execution_count": 3,
   "id": "9838cc9c",
   "metadata": {},
   "outputs": [],
   "source": [
    "import SimpleITK as sitk\n",
    "import numpy as np"
   ]
  },
  {
   "cell_type": "code",
   "execution_count": 4,
   "id": "0639ebb3",
   "metadata": {},
   "outputs": [],
   "source": [
    "contours_A = {}"
   ]
  },
  {
   "cell_type": "code",
   "execution_count": 5,
   "id": "80a730c1",
   "metadata": {},
   "outputs": [],
   "source": [
    "contours_A[\"LUNG_L\"] = sitk.ReadImage(\n",
    "        \"./data/nifti/lung/PRHGD5257_RT_CT/STRUCTURES\"\n",
    "        \"/PRHGD5257_RT_CT_RTSTRUCT_LUNG_L.nii.gz\")"
   ]
  },
  {
   "cell_type": "code",
   "execution_count": 6,
   "id": "4f84b16b",
   "metadata": {},
   "outputs": [],
   "source": [
    "contours_A_array = sitk.GetArrayViewFromImage(contours_A[\"LUNG_L\"])"
   ]
  },
  {
   "cell_type": "code",
   "execution_count": 7,
   "id": "a8986b13",
   "metadata": {},
   "outputs": [
    {
     "data": {
      "text/plain": [
       "array([[ 83, 287, 285],\n",
       "       [ 83, 287, 286],\n",
       "       [ 83, 287, 287],\n",
       "       ...,\n",
       "       [194, 263, 317],\n",
       "       [194, 263, 318],\n",
       "       [194, 263, 319]], dtype=int64)"
      ]
     },
     "execution_count": 7,
     "metadata": {},
     "output_type": "execute_result"
    }
   ],
   "source": [
    "np.transpose(contours_A_array.nonzero())"
   ]
  },
  {
   "cell_type": "code",
   "execution_count": null,
   "id": "e8360f50",
   "metadata": {},
   "outputs": [],
   "source": []
  }
 ],
 "metadata": {
  "kernelspec": {
   "display_name": "Python 3",
   "language": "python",
   "name": "python3"
  },
  "language_info": {
   "codemirror_mode": {
    "name": "ipython",
    "version": 3
   },
   "file_extension": ".py",
   "mimetype": "text/x-python",
   "name": "python",
   "nbconvert_exporter": "python",
   "pygments_lexer": "ipython3",
   "version": "3.7.8"
  }
 },
 "nbformat": 4,
 "nbformat_minor": 5
}
