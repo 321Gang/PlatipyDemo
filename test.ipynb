{
 "cells": [
  {
   "cell_type": "code",
   "execution_count": null,
   "source": [
    "import SimpleITK as sitk\r\n",
    "from numpy.lib.type_check import imag\r\n",
    "from platipy.imaging import ImageVisualiser\r\n",
    "from platipy.imaging.registration.linear import linear_registration\r\n",
    "from platipy.imaging.registration.utils import apply_transform\r\n",
    "from platipy.imaging.visualisation.utils import project_onto_arbitrary_plane\r\n",
    "\r\n",
    "from PIL import Image\r\n",
    "import numpy as np"
   ],
   "outputs": [],
   "metadata": {}
  },
  {
   "cell_type": "code",
   "execution_count": null,
   "source": [
    "# Image Location\r\n",
    "img_ct_lung_5 = sitk.ReadImage(\"./PRHGD5257_LUNG/IMAGES/PRHGD5257_LUNG_0_CT_NON_CONTRAST_CHEST_5.nii.gz\")\r\n",
    "img_ct_lung_10 = sitk.ReadImage(\"./PRHGD5257_LUNG/IMAGES/PRHGD5257_LUNG_1_CT_NON_CONTRAST_CHEST_10.nii.gz\")"
   ],
   "outputs": [],
   "metadata": {}
  },
  {
   "cell_type": "code",
   "execution_count": null,
   "source": [
    "# Using the ImageVisualiser library\r\n",
    "vis = ImageVisualiser(img_ct_lung_5, axis=\"z\", cut = 1)\r\n",
    "fig = vis.show()"
   ],
   "outputs": [],
   "metadata": {}
  },
  {
   "cell_type": "code",
   "execution_count": null,
   "source": [
    "# Using the util library\r\n",
    "sitk_image = project_onto_arbitrary_plane(img_ct_lung_5)\r\n",
    "image_array = sitk.GetArrayFromImage(sitk_image)\r\n",
    "print(type(image_array))\r\n",
    "print(image_array.shape)\r\n",
    "print(image_array)"
   ],
   "outputs": [],
   "metadata": {}
  },
  {
   "cell_type": "code",
   "execution_count": null,
   "source": [
    "# Replicate Image using the util function\r\n",
    "img = Image.fromarray(image_array)\r\n",
    "img.show()"
   ],
   "outputs": [],
   "metadata": {}
  }
 ],
 "metadata": {
  "orig_nbformat": 4,
  "language_info": {
   "name": "python"
  }
 },
 "nbformat": 4,
 "nbformat_minor": 2
}