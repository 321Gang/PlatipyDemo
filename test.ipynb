{
 "cells": [
  {
   "cell_type": "code",
   "execution_count": 56,
   "metadata": {},
   "outputs": [
    {
     "name": "stdout",
     "output_type": "stream",
     "text": [
      "Requirement already satisfied: platipy in c:\\users\\linh\\appdata\\roaming\\python\\python38\\site-packages (0.1.2)\n",
      "Requirement already satisfied: requests>=2.25.1 in c:\\users\\linh\\appdata\\roaming\\python\\python38\\site-packages (from platipy) (2.26.0)\n",
      "Requirement already satisfied: pydicom>=2.1.2 in c:\\users\\linh\\appdata\\roaming\\python\\python38\\site-packages (from platipy) (2.2.1)\n",
      "Requirement already satisfied: pynetdicom>=1.5.7 in c:\\users\\linh\\appdata\\roaming\\python\\python38\\site-packages (from platipy) (1.5.7)\n",
      "Requirement already satisfied: pymedphys>=0.37.1 in c:\\users\\linh\\appdata\\roaming\\python\\python38\\site-packages (from platipy) (0.37.1)\n",
      "Requirement already satisfied: ipywidgets>=7.6.3 in c:\\users\\linh\\appdata\\roaming\\python\\python38\\site-packages (from platipy) (7.6.3)\n",
      "Requirement already satisfied: SimpleITK>=2.0.2 in c:\\users\\linh\\anaconda3\\lib\\site-packages (from platipy) (2.1.0)\n",
      "Requirement already satisfied: click>=7.1.2 in c:\\users\\linh\\anaconda3\\lib\\site-packages (from platipy) (7.1.2)\n",
      "Requirement already satisfied: vtk>=9.0.1 in c:\\users\\linh\\appdata\\roaming\\python\\python38\\site-packages (from platipy) (9.0.3)\n",
      "Requirement already satisfied: pandas>=1.1.5 in c:\\users\\linh\\appdata\\roaming\\python\\python38\\site-packages (from platipy) (1.3.2)\n",
      "Requirement already satisfied: rt-utils>=1.1.4 in c:\\users\\linh\\appdata\\roaming\\python\\python38\\site-packages (from platipy) (1.1.6)\n",
      "Requirement already satisfied: seaborn>=0.11.1 in c:\\users\\linh\\appdata\\roaming\\python\\python38\\site-packages (from platipy) (0.11.2)\n",
      "Requirement already satisfied: loguru>=0.5.3 in c:\\users\\linh\\appdata\\roaming\\python\\python38\\site-packages (from platipy) (0.5.3)\n",
      "Requirement already satisfied: scikit-image<0.18.0,>=0.17.2 in c:\\users\\linh\\anaconda3\\lib\\site-packages (from platipy) (0.17.2)\n",
      "Requirement already satisfied: numpy>=1.19.5 in c:\\users\\linh\\anaconda3\\lib\\site-packages (from platipy) (1.21.2)\n",
      "Requirement already satisfied: matplotlib<3.4.0,>=3.3.4 in c:\\users\\linh\\appdata\\roaming\\python\\python38\\site-packages (from platipy) (3.3.4)\n",
      "Requirement already satisfied: certifi>=2017.4.17 in c:\\users\\linh\\anaconda3\\lib\\site-packages (from requests>=2.25.1->platipy) (2020.6.20)\n",
      "Requirement already satisfied: urllib3<1.27,>=1.21.1 in c:\\users\\linh\\anaconda3\\lib\\site-packages (from requests>=2.25.1->platipy) (1.25.11)\n",
      "Requirement already satisfied: idna<4,>=2.5; python_version >= \"3\" in c:\\users\\linh\\anaconda3\\lib\\site-packages (from requests>=2.25.1->platipy) (2.10)\n",
      "Requirement already satisfied: charset-normalizer~=2.0.0; python_version >= \"3\" in c:\\users\\linh\\appdata\\roaming\\python\\python38\\site-packages (from requests>=2.25.1->platipy) (2.0.4)\n",
      "Requirement already satisfied: typing-extensions in c:\\users\\linh\\anaconda3\\lib\\site-packages (from pymedphys>=0.37.1->platipy) (3.7.4.3)\n",
      "Requirement already satisfied: widgetsnbextension~=3.5.0 in c:\\users\\linh\\anaconda3\\lib\\site-packages (from ipywidgets>=7.6.3->platipy) (3.5.1)\n",
      "Requirement already satisfied: traitlets>=4.3.1 in c:\\users\\linh\\anaconda3\\lib\\site-packages (from ipywidgets>=7.6.3->platipy) (5.0.5)\n",
      "Requirement already satisfied: nbformat>=4.2.0 in c:\\users\\linh\\anaconda3\\lib\\site-packages (from ipywidgets>=7.6.3->platipy) (5.0.8)\n",
      "Requirement already satisfied: ipykernel>=4.5.1 in c:\\users\\linh\\anaconda3\\lib\\site-packages (from ipywidgets>=7.6.3->platipy) (5.3.4)\n",
      "Requirement already satisfied: jupyterlab-widgets>=1.0.0; python_version >= \"3.6\" in c:\\users\\linh\\appdata\\roaming\\python\\python38\\site-packages (from ipywidgets>=7.6.3->platipy) (1.0.0)\n",
      "Requirement already satisfied: ipython>=4.0.0; python_version >= \"3.3\" in c:\\users\\linh\\anaconda3\\lib\\site-packages (from ipywidgets>=7.6.3->platipy) (7.19.0)\n",
      "Requirement already satisfied: wslink>=0.1.3 in c:\\users\\linh\\appdata\\roaming\\python\\python38\\site-packages (from vtk>=9.0.1->platipy) (1.0.7)\n",
      "Requirement already satisfied: autobahn>=17.7.1 in c:\\users\\linh\\appdata\\roaming\\python\\python38\\site-packages (from vtk>=9.0.1->platipy) (21.3.1)\n",
      "Requirement already satisfied: Twisted>=17.5.0 in c:\\users\\linh\\appdata\\roaming\\python\\python38\\site-packages (from vtk>=9.0.1->platipy) (21.7.0)\n",
      "Requirement already satisfied: python-dateutil>=2.7.3 in c:\\users\\linh\\anaconda3\\lib\\site-packages (from pandas>=1.1.5->platipy) (2.8.1)\n",
      "Requirement already satisfied: pytz>=2017.3 in c:\\users\\linh\\anaconda3\\lib\\site-packages (from pandas>=1.1.5->platipy) (2020.1)\n",
      "Requirement already satisfied: dataclasses in c:\\users\\linh\\appdata\\roaming\\python\\python38\\site-packages (from rt-utils>=1.1.4->platipy) (0.6)\n",
      "Requirement already satisfied: opencv-python in c:\\users\\linh\\appdata\\roaming\\python\\python38\\site-packages (from rt-utils>=1.1.4->platipy) (4.5.3.56)\n",
      "Requirement already satisfied: scipy>=1.0 in c:\\users\\linh\\anaconda3\\lib\\site-packages (from seaborn>=0.11.1->platipy) (1.5.2)\n",
      "Requirement already satisfied: colorama>=0.3.4; sys_platform == \"win32\" in c:\\users\\linh\\anaconda3\\lib\\site-packages (from loguru>=0.5.3->platipy) (0.4.4)\n",
      "Requirement already satisfied: win32-setctime>=1.0.0; sys_platform == \"win32\" in c:\\users\\linh\\appdata\\roaming\\python\\python38\\site-packages (from loguru>=0.5.3->platipy) (1.0.3)\n",
      "Requirement already satisfied: networkx>=2.0 in c:\\users\\linh\\anaconda3\\lib\\site-packages (from scikit-image<0.18.0,>=0.17.2->platipy) (2.5)\n",
      "Requirement already satisfied: pillow!=7.1.0,!=7.1.1,>=4.3.0 in c:\\users\\linh\\anaconda3\\lib\\site-packages (from scikit-image<0.18.0,>=0.17.2->platipy) (8.0.1)\n",
      "Requirement already satisfied: imageio>=2.3.0 in c:\\users\\linh\\anaconda3\\lib\\site-packages (from scikit-image<0.18.0,>=0.17.2->platipy) (2.9.0)\n",
      "Requirement already satisfied: tifffile>=2019.7.26 in c:\\users\\linh\\anaconda3\\lib\\site-packages (from scikit-image<0.18.0,>=0.17.2->platipy) (2020.10.1)\n",
      "Requirement already satisfied: PyWavelets>=1.1.1 in c:\\users\\linh\\anaconda3\\lib\\site-packages (from scikit-image<0.18.0,>=0.17.2->platipy) (1.1.1)\n",
      "Requirement already satisfied: kiwisolver>=1.0.1 in c:\\users\\linh\\anaconda3\\lib\\site-packages (from matplotlib<3.4.0,>=3.3.4->platipy) (1.3.0)\n",
      "Requirement already satisfied: pyparsing!=2.0.4,!=2.1.2,!=2.1.6,>=2.0.3 in c:\\users\\linh\\anaconda3\\lib\\site-packages (from matplotlib<3.4.0,>=3.3.4->platipy) (2.4.7)\n",
      "Requirement already satisfied: cycler>=0.10 in c:\\users\\linh\\anaconda3\\lib\\site-packages (from matplotlib<3.4.0,>=3.3.4->platipy) (0.10.0)\n",
      "Requirement already satisfied: notebook>=4.4.1 in c:\\users\\linh\\anaconda3\\lib\\site-packages (from widgetsnbextension~=3.5.0->ipywidgets>=7.6.3->platipy) (6.1.4)\n",
      "Requirement already satisfied: ipython-genutils in c:\\users\\linh\\anaconda3\\lib\\site-packages (from traitlets>=4.3.1->ipywidgets>=7.6.3->platipy) (0.2.0)\n",
      "Requirement already satisfied: jupyter-core in c:\\users\\linh\\anaconda3\\lib\\site-packages (from nbformat>=4.2.0->ipywidgets>=7.6.3->platipy) (4.6.3)\n",
      "Requirement already satisfied: jsonschema!=2.5.0,>=2.4 in c:\\users\\linh\\anaconda3\\lib\\site-packages (from nbformat>=4.2.0->ipywidgets>=7.6.3->platipy) (3.2.0)\n",
      "Requirement already satisfied: jupyter-client in c:\\users\\linh\\anaconda3\\lib\\site-packages (from ipykernel>=4.5.1->ipywidgets>=7.6.3->platipy) (6.1.7)\n",
      "Requirement already satisfied: tornado>=4.2 in c:\\users\\linh\\anaconda3\\lib\\site-packages (from ipykernel>=4.5.1->ipywidgets>=7.6.3->platipy) (6.0.4)\n",
      "Requirement already satisfied: setuptools>=18.5 in c:\\users\\linh\\anaconda3\\lib\\site-packages (from ipython>=4.0.0; python_version >= \"3.3\"->ipywidgets>=7.6.3->platipy) (50.3.1.post20201107)\n",
      "Requirement already satisfied: prompt-toolkit!=3.0.0,!=3.0.1,<3.1.0,>=2.0.0 in c:\\users\\linh\\anaconda3\\lib\\site-packages (from ipython>=4.0.0; python_version >= \"3.3\"->ipywidgets>=7.6.3->platipy) (3.0.8)\n",
      "Requirement already satisfied: decorator in c:\\users\\linh\\anaconda3\\lib\\site-packages (from ipython>=4.0.0; python_version >= \"3.3\"->ipywidgets>=7.6.3->platipy) (4.4.2)\n",
      "Requirement already satisfied: pygments in c:\\users\\linh\\anaconda3\\lib\\site-packages (from ipython>=4.0.0; python_version >= \"3.3\"->ipywidgets>=7.6.3->platipy) (2.7.2)\n",
      "Requirement already satisfied: backcall in c:\\users\\linh\\anaconda3\\lib\\site-packages (from ipython>=4.0.0; python_version >= \"3.3\"->ipywidgets>=7.6.3->platipy) (0.2.0)\n",
      "Requirement already satisfied: pickleshare in c:\\users\\linh\\anaconda3\\lib\\site-packages (from ipython>=4.0.0; python_version >= \"3.3\"->ipywidgets>=7.6.3->platipy) (0.7.5)\n",
      "Requirement already satisfied: jedi>=0.10 in c:\\users\\linh\\anaconda3\\lib\\site-packages (from ipython>=4.0.0; python_version >= \"3.3\"->ipywidgets>=7.6.3->platipy) (0.17.1)\n",
      "Requirement already satisfied: aiohttp in c:\\users\\linh\\appdata\\roaming\\python\\python38\\site-packages (from wslink>=0.1.3->vtk>=9.0.1->platipy) (3.7.4.post0)\n",
      "Requirement already satisfied: txaio>=21.2.1 in c:\\users\\linh\\appdata\\roaming\\python\\python38\\site-packages (from autobahn>=17.7.1->vtk>=9.0.1->platipy) (21.2.1)\n",
      "Requirement already satisfied: cryptography>=3.4.6 in c:\\users\\linh\\appdata\\roaming\\python\\python38\\site-packages (from autobahn>=17.7.1->vtk>=9.0.1->platipy) (3.4.8)\n",
      "Requirement already satisfied: hyperlink>=21.0.0 in c:\\users\\linh\\appdata\\roaming\\python\\python38\\site-packages (from autobahn>=17.7.1->vtk>=9.0.1->platipy) (21.0.0)\n",
      "Requirement already satisfied: twisted-iocpsupport~=1.0.0; platform_system == \"Windows\" in c:\\users\\linh\\appdata\\roaming\\python\\python38\\site-packages (from Twisted>=17.5.0->vtk>=9.0.1->platipy) (1.0.1)\n",
      "Requirement already satisfied: constantly>=15.1 in c:\\users\\linh\\appdata\\roaming\\python\\python38\\site-packages (from Twisted>=17.5.0->vtk>=9.0.1->platipy) (15.1.0)\n",
      "Requirement already satisfied: attrs>=19.2.0 in c:\\users\\linh\\anaconda3\\lib\\site-packages (from Twisted>=17.5.0->vtk>=9.0.1->platipy) (20.3.0)\n",
      "Requirement already satisfied: zope.interface>=4.4.2 in c:\\users\\linh\\anaconda3\\lib\\site-packages (from Twisted>=17.5.0->vtk>=9.0.1->platipy) (5.1.2)\n",
      "Requirement already satisfied: incremental>=21.3.0 in c:\\users\\linh\\appdata\\roaming\\python\\python38\\site-packages (from Twisted>=17.5.0->vtk>=9.0.1->platipy) (21.3.0)\n",
      "Requirement already satisfied: Automat>=0.8.0 in c:\\users\\linh\\appdata\\roaming\\python\\python38\\site-packages (from Twisted>=17.5.0->vtk>=9.0.1->platipy) (20.2.0)\n",
      "Requirement already satisfied: six>=1.5 in c:\\users\\linh\\anaconda3\\lib\\site-packages (from python-dateutil>=2.7.3->pandas>=1.1.5->platipy) (1.15.0)\n",
      "Requirement already satisfied: prometheus-client in c:\\users\\linh\\anaconda3\\lib\\site-packages (from notebook>=4.4.1->widgetsnbextension~=3.5.0->ipywidgets>=7.6.3->platipy) (0.8.0)\n",
      "Requirement already satisfied: pyzmq>=17 in c:\\users\\linh\\anaconda3\\lib\\site-packages (from notebook>=4.4.1->widgetsnbextension~=3.5.0->ipywidgets>=7.6.3->platipy) (19.0.2)\n",
      "Requirement already satisfied: nbconvert in c:\\users\\linh\\anaconda3\\lib\\site-packages (from notebook>=4.4.1->widgetsnbextension~=3.5.0->ipywidgets>=7.6.3->platipy) (6.0.7)\n",
      "Requirement already satisfied: jinja2 in c:\\users\\linh\\anaconda3\\lib\\site-packages (from notebook>=4.4.1->widgetsnbextension~=3.5.0->ipywidgets>=7.6.3->platipy) (2.11.2)\n",
      "Requirement already satisfied: terminado>=0.8.3 in c:\\users\\linh\\anaconda3\\lib\\site-packages (from notebook>=4.4.1->widgetsnbextension~=3.5.0->ipywidgets>=7.6.3->platipy) (0.9.1)\n",
      "Requirement already satisfied: argon2-cffi in c:\\users\\linh\\anaconda3\\lib\\site-packages (from notebook>=4.4.1->widgetsnbextension~=3.5.0->ipywidgets>=7.6.3->platipy) (20.1.0)\n",
      "Requirement already satisfied: Send2Trash in c:\\users\\linh\\anaconda3\\lib\\site-packages (from notebook>=4.4.1->widgetsnbextension~=3.5.0->ipywidgets>=7.6.3->platipy) (1.5.0)\n",
      "Requirement already satisfied: pywin32>=1.0; sys_platform == \"win32\" in c:\\users\\linh\\anaconda3\\lib\\site-packages (from jupyter-core->nbformat>=4.2.0->ipywidgets>=7.6.3->platipy) (227)\n",
      "Requirement already satisfied: pyrsistent>=0.14.0 in c:\\users\\linh\\anaconda3\\lib\\site-packages (from jsonschema!=2.5.0,>=2.4->nbformat>=4.2.0->ipywidgets>=7.6.3->platipy) (0.17.3)\n",
      "Requirement already satisfied: wcwidth in c:\\users\\linh\\anaconda3\\lib\\site-packages (from prompt-toolkit!=3.0.0,!=3.0.1,<3.1.0,>=2.0.0->ipython>=4.0.0; python_version >= \"3.3\"->ipywidgets>=7.6.3->platipy) (0.2.5)\n",
      "Requirement already satisfied: parso<0.8.0,>=0.7.0 in c:\\users\\linh\\anaconda3\\lib\\site-packages (from jedi>=0.10->ipython>=4.0.0; python_version >= \"3.3\"->ipywidgets>=7.6.3->platipy) (0.7.0)\n",
      "Requirement already satisfied: async-timeout<4.0,>=3.0 in c:\\users\\linh\\appdata\\roaming\\python\\python38\\site-packages (from aiohttp->wslink>=0.1.3->vtk>=9.0.1->platipy) (3.0.1)\n",
      "Requirement already satisfied: multidict<7.0,>=4.5 in c:\\users\\linh\\appdata\\roaming\\python\\python38\\site-packages (from aiohttp->wslink>=0.1.3->vtk>=9.0.1->platipy) (5.1.0)\n",
      "Requirement already satisfied: yarl<2.0,>=1.0 in c:\\users\\linh\\appdata\\roaming\\python\\python38\\site-packages (from aiohttp->wslink>=0.1.3->vtk>=9.0.1->platipy) (1.6.3)\n",
      "Requirement already satisfied: chardet<5.0,>=2.0 in c:\\users\\linh\\anaconda3\\lib\\site-packages (from aiohttp->wslink>=0.1.3->vtk>=9.0.1->platipy) (3.0.4)\n",
      "Requirement already satisfied: cffi>=1.12 in c:\\users\\linh\\anaconda3\\lib\\site-packages (from cryptography>=3.4.6->autobahn>=17.7.1->vtk>=9.0.1->platipy) (1.14.3)\n",
      "Requirement already satisfied: bleach in c:\\users\\linh\\anaconda3\\lib\\site-packages (from nbconvert->notebook>=4.4.1->widgetsnbextension~=3.5.0->ipywidgets>=7.6.3->platipy) (3.2.1)\n",
      "Requirement already satisfied: nbclient<0.6.0,>=0.5.0 in c:\\users\\linh\\anaconda3\\lib\\site-packages (from nbconvert->notebook>=4.4.1->widgetsnbextension~=3.5.0->ipywidgets>=7.6.3->platipy) (0.5.1)\n",
      "Requirement already satisfied: defusedxml in c:\\users\\linh\\anaconda3\\lib\\site-packages (from nbconvert->notebook>=4.4.1->widgetsnbextension~=3.5.0->ipywidgets>=7.6.3->platipy) (0.6.0)\n",
      "Requirement already satisfied: mistune<2,>=0.8.1 in c:\\users\\linh\\anaconda3\\lib\\site-packages (from nbconvert->notebook>=4.4.1->widgetsnbextension~=3.5.0->ipywidgets>=7.6.3->platipy) (0.8.4)\n",
      "Requirement already satisfied: pandocfilters>=1.4.1 in c:\\users\\linh\\anaconda3\\lib\\site-packages (from nbconvert->notebook>=4.4.1->widgetsnbextension~=3.5.0->ipywidgets>=7.6.3->platipy) (1.4.3)\n",
      "Requirement already satisfied: entrypoints>=0.2.2 in c:\\users\\linh\\anaconda3\\lib\\site-packages (from nbconvert->notebook>=4.4.1->widgetsnbextension~=3.5.0->ipywidgets>=7.6.3->platipy) (0.3)\n",
      "Requirement already satisfied: testpath in c:\\users\\linh\\anaconda3\\lib\\site-packages (from nbconvert->notebook>=4.4.1->widgetsnbextension~=3.5.0->ipywidgets>=7.6.3->platipy) (0.4.4)\n",
      "Requirement already satisfied: jupyterlab-pygments in c:\\users\\linh\\anaconda3\\lib\\site-packages (from nbconvert->notebook>=4.4.1->widgetsnbextension~=3.5.0->ipywidgets>=7.6.3->platipy) (0.1.2)\n",
      "Requirement already satisfied: MarkupSafe>=0.23 in c:\\users\\linh\\anaconda3\\lib\\site-packages (from jinja2->notebook>=4.4.1->widgetsnbextension~=3.5.0->ipywidgets>=7.6.3->platipy) (1.1.1)\n",
      "Requirement already satisfied: pywinpty>=0.5 in c:\\users\\linh\\anaconda3\\lib\\site-packages (from terminado>=0.8.3->notebook>=4.4.1->widgetsnbextension~=3.5.0->ipywidgets>=7.6.3->platipy) (0.5.7)\n",
      "Requirement already satisfied: pycparser in c:\\users\\linh\\anaconda3\\lib\\site-packages (from cffi>=1.12->cryptography>=3.4.6->autobahn>=17.7.1->vtk>=9.0.1->platipy) (2.20)\n",
      "Requirement already satisfied: webencodings in c:\\users\\linh\\anaconda3\\lib\\site-packages (from bleach->nbconvert->notebook>=4.4.1->widgetsnbextension~=3.5.0->ipywidgets>=7.6.3->platipy) (0.5.1)\n",
      "Requirement already satisfied: packaging in c:\\users\\linh\\anaconda3\\lib\\site-packages (from bleach->nbconvert->notebook>=4.4.1->widgetsnbextension~=3.5.0->ipywidgets>=7.6.3->platipy) (20.4)\n",
      "Requirement already satisfied: async-generator in c:\\users\\linh\\anaconda3\\lib\\site-packages (from nbclient<0.6.0,>=0.5.0->nbconvert->notebook>=4.4.1->widgetsnbextension~=3.5.0->ipywidgets>=7.6.3->platipy) (1.10)\n",
      "Requirement already satisfied: nest-asyncio in c:\\users\\linh\\anaconda3\\lib\\site-packages (from nbclient<0.6.0,>=0.5.0->nbconvert->notebook>=4.4.1->widgetsnbextension~=3.5.0->ipywidgets>=7.6.3->platipy) (1.4.2)\n"
     ]
    }
   ],
   "source": [
    "import sys\n",
    "!{sys.executable} -m pip install platipy"
   ]
  },
  {
   "cell_type": "code",
   "execution_count": 70,
   "metadata": {},
   "outputs": [
    {
     "name": "stderr",
     "output_type": "stream",
     "text": [
      "'python38' is not recognized as an internal or external command,\n",
      "operable program or batch file.\n"
     ]
    }
   ],
   "source": [
    "! python38 -m pip install platipy"
   ]
  },
  {
   "cell_type": "code",
   "execution_count": 64,
   "metadata": {},
   "outputs": [
    {
     "data": {
      "text/plain": [
       "'C:\\\\Users\\\\Linh\\\\anaconda3\\\\python.exe'"
      ]
     },
     "execution_count": 64,
     "metadata": {},
     "output_type": "execute_result"
    }
   ],
   "source": [
    "sys.executable\n"
   ]
  },
  {
   "cell_type": "code",
   "execution_count": 71,
   "metadata": {},
   "outputs": [
    {
     "data": {
      "text/plain": [
       "['C:\\\\Users\\\\Linh\\\\PlatiPyDemo',\n",
       " 'C:\\\\Users\\\\Linh\\\\anaconda3\\\\python38.zip',\n",
       " 'C:\\\\Users\\\\Linh\\\\anaconda3\\\\DLLs',\n",
       " 'C:\\\\Users\\\\Linh\\\\anaconda3\\\\lib',\n",
       " 'C:\\\\Users\\\\Linh\\\\anaconda3',\n",
       " '',\n",
       " 'C:\\\\Users\\\\Linh\\\\anaconda3\\\\lib\\\\site-packages',\n",
       " 'C:\\\\Users\\\\Linh\\\\anaconda3\\\\lib\\\\site-packages\\\\win32',\n",
       " 'C:\\\\Users\\\\Linh\\\\anaconda3\\\\lib\\\\site-packages\\\\win32\\\\lib',\n",
       " 'C:\\\\Users\\\\Linh\\\\anaconda3\\\\lib\\\\site-packages\\\\Pythonwin',\n",
       " 'C:\\\\Users\\\\Linh\\\\anaconda3\\\\lib\\\\site-packages\\\\IPython\\\\extensions',\n",
       " 'C:\\\\Users\\\\Linh\\\\.ipython',\n",
       " 'C:\\\\Users\\\\Linh\\\\anaconda3\\\\python.exe']"
      ]
     },
     "execution_count": 71,
     "metadata": {},
     "output_type": "execute_result"
    }
   ],
   "source": [
    "sys.path\n"
   ]
  },
  {
   "cell_type": "code",
   "execution_count": 68,
   "metadata": {},
   "outputs": [
    {
     "ename": "ModuleNotFoundError",
     "evalue": "No module named 'platipy'",
     "output_type": "error",
     "traceback": [
      "\u001b[1;31m---------------------------------------------------------------------------\u001b[0m",
      "\u001b[1;31mModuleNotFoundError\u001b[0m                       Traceback (most recent call last)",
      "\u001b[1;32m<ipython-input-68-739b039b0d19>\u001b[0m in \u001b[0;36m<module>\u001b[1;34m\u001b[0m\n\u001b[0;32m      1\u001b[0m \u001b[1;32mimport\u001b[0m \u001b[0mSimpleITK\u001b[0m \u001b[1;32mas\u001b[0m \u001b[0msitk\u001b[0m\u001b[1;33m\u001b[0m\u001b[1;33m\u001b[0m\u001b[0m\n\u001b[1;32m----> 2\u001b[1;33m \u001b[1;32mimport\u001b[0m \u001b[0mplatipy\u001b[0m\u001b[1;33m\u001b[0m\u001b[1;33m\u001b[0m\u001b[0m\n\u001b[0m\u001b[0;32m      3\u001b[0m \u001b[1;32mfrom\u001b[0m \u001b[0mnumpy\u001b[0m\u001b[1;33m.\u001b[0m\u001b[0mlib\u001b[0m\u001b[1;33m.\u001b[0m\u001b[0mtype_check\u001b[0m \u001b[1;32mimport\u001b[0m \u001b[0mimag\u001b[0m\u001b[1;33m\u001b[0m\u001b[1;33m\u001b[0m\u001b[0m\n\u001b[0;32m      4\u001b[0m \u001b[1;32mfrom\u001b[0m \u001b[0mplatipy\u001b[0m\u001b[1;33m.\u001b[0m\u001b[0mimaging\u001b[0m \u001b[1;32mimport\u001b[0m \u001b[0mImageVisualiser\u001b[0m\u001b[1;33m\u001b[0m\u001b[1;33m\u001b[0m\u001b[0m\n\u001b[0;32m      5\u001b[0m \u001b[1;32mfrom\u001b[0m \u001b[0mplatipy\u001b[0m\u001b[1;33m.\u001b[0m\u001b[0mimaging\u001b[0m\u001b[1;33m.\u001b[0m\u001b[0mregistration\u001b[0m\u001b[1;33m.\u001b[0m\u001b[0mlinear\u001b[0m \u001b[1;32mimport\u001b[0m \u001b[0mlinear_registration\u001b[0m\u001b[1;33m\u001b[0m\u001b[1;33m\u001b[0m\u001b[0m\n",
      "\u001b[1;31mModuleNotFoundError\u001b[0m: No module named 'platipy'"
     ]
    }
   ],
   "source": [
    "import SimpleITK as sitk\n",
    "import platipy\n",
    "from numpy.lib.type_check import imag\n",
    "from platipy.imaging import ImageVisualiser\n",
    "from platipy.imaging.registration.linear import linear_registration\n",
    "from platipy.imaging.registration.utils import apply_transform\n",
    "from platipy.imaging.visualisation.utils import project_onto_arbitrary_plane\n",
    "\n",
    "from PIL import Image\n",
    "import numpy as np"
   ]
  },
  {
   "cell_type": "code",
   "execution_count": null,
   "metadata": {},
   "outputs": [],
   "source": []
  },
  {
   "cell_type": "code",
   "execution_count": 20,
   "metadata": {},
   "outputs": [],
   "source": [
    "# Image Location\n",
    "img_ct_lung_5 = sitk.ReadImage(\"./PRHGD5257_LUNG/IMAGES/PRHGD5257_LUNG_0_CT_NON_CONTRAST_CHEST_5.nii.gz\")\n",
    "img_ct_lung_10 = sitk.ReadImage(\"./PRHGD5257_LUNG/IMAGES/PRHGD5257_LUNG_1_CT_NON_CONTRAST_CHEST_10.nii.gz\")"
   ]
  },
  {
   "cell_type": "code",
   "execution_count": 21,
   "metadata": {},
   "outputs": [
    {
     "ename": "NameError",
     "evalue": "name 'ImageVisualiser' is not defined",
     "output_type": "error",
     "traceback": [
      "\u001b[1;31m---------------------------------------------------------------------------\u001b[0m",
      "\u001b[1;31mNameError\u001b[0m                                 Traceback (most recent call last)",
      "\u001b[1;32m<ipython-input-21-f7cbb0684d68>\u001b[0m in \u001b[0;36m<module>\u001b[1;34m\u001b[0m\n\u001b[0;32m      1\u001b[0m \u001b[1;31m# Using the ImageVisualiser library\u001b[0m\u001b[1;33m\u001b[0m\u001b[1;33m\u001b[0m\u001b[1;33m\u001b[0m\u001b[0m\n\u001b[1;32m----> 2\u001b[1;33m \u001b[0mvis\u001b[0m \u001b[1;33m=\u001b[0m \u001b[0mImageVisualiser\u001b[0m\u001b[1;33m(\u001b[0m\u001b[0mimg_ct_lung_5\u001b[0m\u001b[1;33m,\u001b[0m \u001b[0maxis\u001b[0m\u001b[1;33m=\u001b[0m\u001b[1;34m\"z\"\u001b[0m\u001b[1;33m,\u001b[0m \u001b[0mcut\u001b[0m \u001b[1;33m=\u001b[0m \u001b[1;36m1\u001b[0m\u001b[1;33m)\u001b[0m\u001b[1;33m\u001b[0m\u001b[1;33m\u001b[0m\u001b[0m\n\u001b[0m\u001b[0;32m      3\u001b[0m \u001b[0mfig\u001b[0m \u001b[1;33m=\u001b[0m \u001b[0mvis\u001b[0m\u001b[1;33m.\u001b[0m\u001b[0mshow\u001b[0m\u001b[1;33m(\u001b[0m\u001b[1;33m)\u001b[0m\u001b[1;33m\u001b[0m\u001b[1;33m\u001b[0m\u001b[0m\n",
      "\u001b[1;31mNameError\u001b[0m: name 'ImageVisualiser' is not defined"
     ]
    }
   ],
   "source": [
    "# Using the ImageVisualiser library\n",
    "vis = ImageVisualiser(img_ct_lung_5, axis=\"z\", cut = 1)\n",
    "fig = vis.show()"
   ]
  },
  {
   "cell_type": "code",
   "execution_count": null,
   "metadata": {},
   "outputs": [],
   "source": [
    "# Using the util library\n",
    "sitk_image = project_onto_arbitrary_plane(img_ct_lung_5)\n",
    "image_array = sitk.GetArrayFromImage(sitk_image)\n",
    "print(type(image_array))\n",
    "print(image_array.shape)\n",
    "print(image_array)"
   ]
  },
  {
   "cell_type": "code",
   "execution_count": null,
   "metadata": {},
   "outputs": [],
   "source": [
    "# Replicate Image using the util function\n",
    "img = Image.fromarray(image_array)\n",
    "img.show()"
   ]
  }
 ],
 "metadata": {
  "kernelspec": {
   "display_name": "Python 3",
   "language": "python",
   "name": "python3"
  },
  "language_info": {
   "codemirror_mode": {
    "name": "ipython",
    "version": 3
   },
   "file_extension": ".py",
   "mimetype": "text/x-python",
   "name": "python",
   "nbconvert_exporter": "python",
   "pygments_lexer": "ipython3",
   "version": "3.8.5"
  }
 },
 "nbformat": 4,
 "nbformat_minor": 2
}
